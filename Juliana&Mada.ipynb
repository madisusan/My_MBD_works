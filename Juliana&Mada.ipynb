{
 "cells": [
  {
   "cell_type": "markdown",
   "metadata": {},
   "source": [
    "## Fake News Assignmet\n"
   ]
  },
  {
   "cell_type": "markdown",
   "metadata": {},
   "source": [
    "## Importing needed libraries "
   ]
  },
  {
   "cell_type": "code",
   "execution_count": 54,
   "metadata": {},
   "outputs": [
    {
     "name": "stderr",
     "output_type": "stream",
     "text": [
      "[nltk_data] Downloading package punkt to\n",
      "[nltk_data]     /Users/madisubaiti/nltk_data...\n",
      "[nltk_data]   Package punkt is already up-to-date!\n",
      "[nltk_data] Downloading package stopwords to\n",
      "[nltk_data]     /Users/madisubaiti/nltk_data...\n",
      "[nltk_data]   Package stopwords is already up-to-date!\n",
      "[nltk_data] Downloading package averaged_perceptron_tagger to\n",
      "[nltk_data]     /Users/madisubaiti/nltk_data...\n",
      "[nltk_data]   Package averaged_perceptron_tagger is already up-to-\n",
      "[nltk_data]       date!\n",
      "[nltk_data] Downloading package wordnet to\n",
      "[nltk_data]     /Users/madisubaiti/nltk_data...\n",
      "[nltk_data]   Package wordnet is already up-to-date!\n"
     ]
    }
   ],
   "source": [
    "#importing Libraries------------------------------------\n",
    "import pandas as pd\n",
    "import numpy as np\n",
    "import matplotlib.pyplot as plt\n",
    "from string import punctuation\n",
    "%matplotlib inline\n",
    "from collections import Counter\n",
    "from collections import defaultdict\n",
    "import re\n",
    "import os\n",
    "\n",
    "\n",
    "\n",
    "#NLTK related--------------------------------------------\n",
    "import nltk\n",
    "from nltk import collocations, pos_tag\n",
    "from nltk.corpus import stopwords\n",
    "from nltk.corpus import wordnet as wn\n",
    "from nltk.tokenize import TweetTokenizer\n",
    "from nltk.stem import WordNetLemmatizer\n",
    "nltk.download('punkt')\n",
    "nltk.download(\"stopwords\")\n",
    "nltk.download('averaged_perceptron_tagger')\n",
    "nltk.download('wordnet')\n",
    "\n",
    "\n",
    "#sklearn related------------------------------------------\n",
    "from sklearn.feature_extraction.text import TfidfVectorizer\n",
    "from sklearn.model_selection import train_test_split, cross_val_score, GridSearchCV\n",
    "from sklearn.metrics import f1_score, accuracy_score\n",
    "from sklearn.feature_extraction.text import TfidfTransformer\n",
    "from sklearn.linear_model import LogisticRegression, PassiveAggressiveClassifier\n",
    "from sklearn.svm import SVC\n",
    "\n",
    "\n",
    "\n",
    "import seaborn as sns\n"
   ]
  },
  {
   "cell_type": "markdown",
   "metadata": {},
   "source": [
    "## Importing Train and Test Datasets"
   ]
  },
  {
   "cell_type": "code",
   "execution_count": 82,
   "metadata": {},
   "outputs": [
    {
     "data": {
      "text/plain": [
       "3999"
      ]
     },
     "execution_count": 82,
     "metadata": {},
     "output_type": "execute_result"
    }
   ],
   "source": [
    "df_training = pd.read_csv('fake_or_real_news_training.csv')\n",
    "df_test = pd.read_csv('fake_or_real_news_test.csv')\n",
    "df_training.text.count()"
   ]
  },
  {
   "cell_type": "code",
   "execution_count": 83,
   "metadata": {},
   "outputs": [
    {
     "data": {
      "text/html": [
       "<div>\n",
       "<style scoped>\n",
       "    .dataframe tbody tr th:only-of-type {\n",
       "        vertical-align: middle;\n",
       "    }\n",
       "\n",
       "    .dataframe tbody tr th {\n",
       "        vertical-align: top;\n",
       "    }\n",
       "\n",
       "    .dataframe thead th {\n",
       "        text-align: right;\n",
       "    }\n",
       "</style>\n",
       "<table border=\"1\" class=\"dataframe\">\n",
       "  <thead>\n",
       "    <tr style=\"text-align: right;\">\n",
       "      <th></th>\n",
       "      <th>ID</th>\n",
       "      <th>title</th>\n",
       "      <th>text</th>\n",
       "      <th>label</th>\n",
       "      <th>X1</th>\n",
       "      <th>X2</th>\n",
       "    </tr>\n",
       "  </thead>\n",
       "  <tbody>\n",
       "    <tr>\n",
       "      <th>0</th>\n",
       "      <td>8476</td>\n",
       "      <td>You Can Smell Hillary’s Fear</td>\n",
       "      <td>Daniel Greenfield, a Shillman Journalism Fello...</td>\n",
       "      <td>FAKE</td>\n",
       "      <td>NaN</td>\n",
       "      <td>NaN</td>\n",
       "    </tr>\n",
       "    <tr>\n",
       "      <th>1</th>\n",
       "      <td>10294</td>\n",
       "      <td>Watch The Exact Moment Paul Ryan Committed Pol...</td>\n",
       "      <td>Google Pinterest Digg Linkedin Reddit Stumbleu...</td>\n",
       "      <td>FAKE</td>\n",
       "      <td>NaN</td>\n",
       "      <td>NaN</td>\n",
       "    </tr>\n",
       "    <tr>\n",
       "      <th>2</th>\n",
       "      <td>3608</td>\n",
       "      <td>Kerry to go to Paris in gesture of sympathy</td>\n",
       "      <td>U.S. Secretary of State John F. Kerry said Mon...</td>\n",
       "      <td>REAL</td>\n",
       "      <td>NaN</td>\n",
       "      <td>NaN</td>\n",
       "    </tr>\n",
       "    <tr>\n",
       "      <th>3</th>\n",
       "      <td>10142</td>\n",
       "      <td>Bernie supporters on Twitter erupt in anger ag...</td>\n",
       "      <td>— Kaydee King (@KaydeeKing) November 9, 2016 T...</td>\n",
       "      <td>FAKE</td>\n",
       "      <td>NaN</td>\n",
       "      <td>NaN</td>\n",
       "    </tr>\n",
       "    <tr>\n",
       "      <th>4</th>\n",
       "      <td>875</td>\n",
       "      <td>The Battle of New York: Why This Primary Matters</td>\n",
       "      <td>It's primary day in New York and front-runners...</td>\n",
       "      <td>REAL</td>\n",
       "      <td>NaN</td>\n",
       "      <td>NaN</td>\n",
       "    </tr>\n",
       "  </tbody>\n",
       "</table>\n",
       "</div>"
      ],
      "text/plain": [
       "      ID                                              title  \\\n",
       "0   8476                       You Can Smell Hillary’s Fear   \n",
       "1  10294  Watch The Exact Moment Paul Ryan Committed Pol...   \n",
       "2   3608        Kerry to go to Paris in gesture of sympathy   \n",
       "3  10142  Bernie supporters on Twitter erupt in anger ag...   \n",
       "4    875   The Battle of New York: Why This Primary Matters   \n",
       "\n",
       "                                                text label   X1   X2  \n",
       "0  Daniel Greenfield, a Shillman Journalism Fello...  FAKE  NaN  NaN  \n",
       "1  Google Pinterest Digg Linkedin Reddit Stumbleu...  FAKE  NaN  NaN  \n",
       "2  U.S. Secretary of State John F. Kerry said Mon...  REAL  NaN  NaN  \n",
       "3  — Kaydee King (@KaydeeKing) November 9, 2016 T...  FAKE  NaN  NaN  \n",
       "4  It's primary day in New York and front-runners...  REAL  NaN  NaN  "
      ]
     },
     "execution_count": 83,
     "metadata": {},
     "output_type": "execute_result"
    }
   ],
   "source": [
    "df_training.head()"
   ]
  },
  {
   "cell_type": "code",
   "execution_count": 84,
   "metadata": {},
   "outputs": [
    {
     "data": {
      "text/html": [
       "<div>\n",
       "<style scoped>\n",
       "    .dataframe tbody tr th:only-of-type {\n",
       "        vertical-align: middle;\n",
       "    }\n",
       "\n",
       "    .dataframe tbody tr th {\n",
       "        vertical-align: top;\n",
       "    }\n",
       "\n",
       "    .dataframe thead th {\n",
       "        text-align: right;\n",
       "    }\n",
       "</style>\n",
       "<table border=\"1\" class=\"dataframe\">\n",
       "  <thead>\n",
       "    <tr style=\"text-align: right;\">\n",
       "      <th></th>\n",
       "      <th>ID</th>\n",
       "      <th>title</th>\n",
       "      <th>text</th>\n",
       "    </tr>\n",
       "  </thead>\n",
       "  <tbody>\n",
       "    <tr>\n",
       "      <th>0</th>\n",
       "      <td>10498</td>\n",
       "      <td>September New Homes Sales Rise——-Back To 1992 ...</td>\n",
       "      <td>September New Homes Sales Rise Back To 1992 Le...</td>\n",
       "    </tr>\n",
       "    <tr>\n",
       "      <th>1</th>\n",
       "      <td>2439</td>\n",
       "      <td>Why The Obamacare Doomsday Cult Can't Admit It...</td>\n",
       "      <td>But when Congress debated and passed the Patie...</td>\n",
       "    </tr>\n",
       "    <tr>\n",
       "      <th>2</th>\n",
       "      <td>864</td>\n",
       "      <td>Sanders, Cruz resist pressure after NY losses,...</td>\n",
       "      <td>The Bernie Sanders and Ted Cruz campaigns vowe...</td>\n",
       "    </tr>\n",
       "    <tr>\n",
       "      <th>3</th>\n",
       "      <td>4128</td>\n",
       "      <td>Surviving escaped prisoner likely fatigued and...</td>\n",
       "      <td>Police searching for the second of two escaped...</td>\n",
       "    </tr>\n",
       "    <tr>\n",
       "      <th>4</th>\n",
       "      <td>662</td>\n",
       "      <td>Clinton and Sanders neck and neck in Californi...</td>\n",
       "      <td>No matter who wins California's 475 delegates ...</td>\n",
       "    </tr>\n",
       "  </tbody>\n",
       "</table>\n",
       "</div>"
      ],
      "text/plain": [
       "      ID                                              title  \\\n",
       "0  10498  September New Homes Sales Rise——-Back To 1992 ...   \n",
       "1   2439  Why The Obamacare Doomsday Cult Can't Admit It...   \n",
       "2    864  Sanders, Cruz resist pressure after NY losses,...   \n",
       "3   4128  Surviving escaped prisoner likely fatigued and...   \n",
       "4    662  Clinton and Sanders neck and neck in Californi...   \n",
       "\n",
       "                                                text  \n",
       "0  September New Homes Sales Rise Back To 1992 Le...  \n",
       "1  But when Congress debated and passed the Patie...  \n",
       "2  The Bernie Sanders and Ted Cruz campaigns vowe...  \n",
       "3  Police searching for the second of two escaped...  \n",
       "4  No matter who wins California's 475 delegates ...  "
      ]
     },
     "execution_count": 84,
     "metadata": {},
     "output_type": "execute_result"
    }
   ],
   "source": [
    "df_test.head()"
   ]
  },
  {
   "cell_type": "code",
   "execution_count": 47,
   "metadata": {},
   "outputs": [],
   "source": []
  },
  {
   "cell_type": "markdown",
   "metadata": {},
   "source": [
    "## Counting number of values in \"Title\" and \"Text\" and finding the StopWords"
   ]
  },
  {
   "cell_type": "code",
   "execution_count": 85,
   "metadata": {},
   "outputs": [],
   "source": [
    " # functions\n",
    "    \n",
    "def lexical_diversity(text):\n",
    "    return len(set(text)) / len(text)\n",
    "\n",
    "stop = stopwords.words('english')\n",
    "punctuation += '´΄’…“”–—―»«'"
   ]
  },
  {
   "cell_type": "code",
   "execution_count": 86,
   "metadata": {},
   "outputs": [],
   "source": [
    "#Training\n",
    "df_training['count_title'] = df_training.title.apply(lambda x: len(x.split(\" \")))\n",
    "df_training['count_text'] = df_training.text.apply(lambda x: len(x.split(\" \")))\n",
    "df_training['diversity'] = df_training.text.apply(lambda x: lexical_diversity(x))\n",
    "df_training['stopwords'] = df_training.text.apply(lambda x: len([x for x in x.split() if x in stop]))\n",
    "\n",
    "#Test \n",
    "df_test['count_title'] = df_test.title.apply(lambda x: len(x.split(\" \")))\n",
    "df_test['count_text'] = df_test.text.apply(lambda x: len(x.split(\" \")))\n",
    "df_test['diversity'] = df_test.text.apply(lambda x: lexical_diversity(x))\n",
    "df_test['stopwords'] = df_test.text.apply(lambda x: len([x for x in x.split() if x in stop]))\n",
    "\n"
   ]
  },
  {
   "cell_type": "markdown",
   "metadata": {},
   "source": [
    "## Analyzing the Real and Fake News distribution\n",
    " ### Labels WordCount"
   ]
  },
  {
   "cell_type": "code",
   "execution_count": 60,
   "metadata": {},
   "outputs": [
    {
     "data": {
      "text/plain": [
       "<matplotlib.axes._subplots.AxesSubplot at 0x1a27a21ba8>"
      ]
     },
     "execution_count": 60,
     "metadata": {},
     "output_type": "execute_result"
    },
    {
     "data": {
      "image/png": "[encoded data removed]",
      "text/plain": [
       "<Figure size 432x288 with 1 Axes>"
      ]
     },
     "metadata": {
      "needs_background": "light"
     },
     "output_type": "display_data"
    }
   ],
   "source": [
    "sns.distplot(df_training[df_training[\"label\"]==\"FAKE\"][\"count_text\"], color = \"r\",label = \"Fake News\")\n",
    "sns.distplot(df_training[df_training[\"label\"]==\"REAL\"][\"count_text\"], color = \"g\", label = \"Real News\")"
   ]
  },
  {
   "cell_type": "markdown",
   "metadata": {},
   "source": [
    "It seems here that news tweets with more words show a tendency of being Fake News. The range of word counts for Real News is a lot less than that of the Fake. \n"
   ]
  },
  {
   "cell_type": "markdown",
   "metadata": {},
   "source": [
    "### Title WordCount"
   ]
  },
  {
   "cell_type": "code",
   "execution_count": 61,
   "metadata": {},
   "outputs": [
    {
     "data": {
      "text/plain": [
       "<matplotlib.axes._subplots.AxesSubplot at 0x1a282cd0b8>"
      ]
     },
     "execution_count": 61,
     "metadata": {},
     "output_type": "execute_result"
    },
    {
     "data": {
      "image/png": "[encoded data removed]",
      "text/plain": [
       "<Figure size 432x288 with 1 Axes>"
      ]
     },
     "metadata": {
      "needs_background": "light"
     },
     "output_type": "display_data"
    }
   ],
   "source": [
    "sns.distplot(df_training[df_training[\"label\"]==\"FAKE\"][\"count_title\"], color = \"r\", label = \"Fake news\")\n",
    "sns.distplot(df_training[df_training[\"label\"]==\"REAL\"][\"count_title\"], color = \"g\", label = \"Real news\")"
   ]
  },
  {
   "cell_type": "markdown",
   "metadata": {},
   "source": [
    "Fake News appears to have slightly longer titles than Real News in this scenario as well. "
   ]
  },
  {
   "cell_type": "markdown",
   "metadata": {},
   "source": [
    "### StopWords WordCount"
   ]
  },
  {
   "cell_type": "code",
   "execution_count": 62,
   "metadata": {},
   "outputs": [
    {
     "data": {
      "text/plain": [
       "<matplotlib.axes._subplots.AxesSubplot at 0x1a2d764d30>"
      ]
     },
     "execution_count": 62,
     "metadata": {},
     "output_type": "execute_result"
    },
    {
     "data": {
      "image/png": "[encoded data removed]",
      "text/plain": [
       "<Figure size 432x288 with 1 Axes>"
      ]
     },
     "metadata": {
      "needs_background": "light"
     },
     "output_type": "display_data"
    }
   ],
   "source": [
    "sns.distplot(df_training[df_training[\"label\"]==\"FAKE\"][\"stopwords\"], color = \"r\", label = \"Fake news\")\n",
    "sns.distplot(df_training[df_training[\"label\"]==\"REAL\"][\"stopwords\"], color = \"g\", label = \"Real news\")"
   ]
  },
  {
   "cell_type": "markdown",
   "metadata": {},
   "source": [
    "Fake News once again uses more stopwords in their articles than Real News"
   ]
  },
  {
   "cell_type": "markdown",
   "metadata": {},
   "source": [
    "In conclusion, it is evident that Fake News use more words in general that Real News"
   ]
  },
  {
   "cell_type": "markdown",
   "metadata": {},
   "source": [
    "# Data Cleaning\n",
    "### Understanding the features"
   ]
  },
  {
   "cell_type": "code",
   "execution_count": 87,
   "metadata": {},
   "outputs": [
    {
     "name": "stdout",
     "output_type": "stream",
     "text": [
      "We have  35  lables when we should have only 2 in correspondence with the main lables: 'REAL' and 'FAKE'\n",
      "X1 is still a variable although it is not clear what it is, however it contains  4 unique values while column X2 has 2 unique values\n",
      "The text column  was expected to have 3999 disctinct texts but we found that there are  3839 unique words\n"
     ]
    }
   ],
   "source": [
    "u_labels = df_training['label'].nunique()\n",
    "u_X1 = df_training['X1'].nunique()\n",
    "u_X2 = df_training['X2'].nunique()\n",
    "u_text = df_training['text'].nunique()\n",
    "\n",
    "print(\"We have \", u_labels, \" lables when we should have only 2 in correspondence with the main lables: 'REAL' and 'FAKE'\")\n",
    "print(\"X1 is still a variable although it is not clear what it is, however it contains \", u_X1 ,\"unique values while column X2 has\", u_X2, \"unique values\")\n",
    "print(\"The text column  was expected to have 3999 disctinct texts but we found that there are \", u_text, \"unique words\" )"
   ]
  },
  {
   "cell_type": "markdown",
   "metadata": {},
   "source": [
    "### Dropping Duplicates\n",
    "\n",
    "We will begin deleting or droping the rows that have the same texts"
   ]
  },
  {
   "cell_type": "code",
   "execution_count": 88,
   "metadata": {},
   "outputs": [
    {
     "name": "stdout",
     "output_type": "stream",
     "text": [
      "Lets check how many unique texts we have left : 3839\n"
     ]
    }
   ],
   "source": [
    "\n",
    "df_training = df_training.drop_duplicates(['text','count_text'])\n",
    "print(\"Lets check how many unique texts we have left :\", df_training['text'].nunique())"
   ]
  },
  {
   "cell_type": "code",
   "execution_count": 89,
   "metadata": {},
   "outputs": [
    {
     "name": "stdout",
     "output_type": "stream",
     "text": [
      "Now lets see again the other unique values from the column 'label' where we have 35 values\n"
     ]
    }
   ],
   "source": [
    "print(\"Now lets see again the other unique values from the column 'label' where we have\", df_training['label'].nunique(), 'values')"
   ]
  },
  {
   "cell_type": "code",
   "execution_count": 90,
   "metadata": {
    "scrolled": true
   },
   "outputs": [],
   "source": [
    "#df_training"
   ]
  },
  {
   "cell_type": "code",
   "execution_count": 91,
   "metadata": {
    "scrolled": true
   },
   "outputs": [],
   "source": [
    "#df_training.label.unique()"
   ]
  },
  {
   "cell_type": "code",
   "execution_count": 92,
   "metadata": {},
   "outputs": [],
   "source": [
    "df_training = df_training.drop(df_training[(df_training['label'] != 'FAKE') & (df_training['label'] != 'REAL')].index)"
   ]
  },
  {
   "cell_type": "code",
   "execution_count": 93,
   "metadata": {},
   "outputs": [
    {
     "name": "stdout",
     "output_type": "stream",
     "text": [
      "After droping this rows lets check again X1 and X2 unique values to analyze those columns X1 unique values are 0 and X2 unique values are: 0\n"
     ]
    }
   ],
   "source": [
    "print(\"After droping this rows lets check again X1 and X2 unique values to analyze those columns X1 unique values are\", df_training['X1'].nunique(), \"and X2 unique values are:\",df_training['X2'].nunique() )"
   ]
  },
  {
   "cell_type": "code",
   "execution_count": 94,
   "metadata": {},
   "outputs": [
    {
     "data": {
      "text/plain": [
       "array([nan], dtype=object)"
      ]
     },
     "execution_count": 94,
     "metadata": {},
     "output_type": "execute_result"
    }
   ],
   "source": [
    "df_training.X1.unique()"
   ]
  },
  {
   "cell_type": "code",
   "execution_count": 95,
   "metadata": {},
   "outputs": [
    {
     "data": {
      "text/plain": [
       "array([nan], dtype=object)"
      ]
     },
     "execution_count": 95,
     "metadata": {},
     "output_type": "execute_result"
    }
   ],
   "source": [
    "df_training.X2.unique()"
   ]
  },
  {
   "cell_type": "markdown",
   "metadata": {},
   "source": [
    "#### Because there are no values left in the columns X1 and X2 , we have dropped them"
   ]
  },
  {
   "cell_type": "code",
   "execution_count": 96,
   "metadata": {},
   "outputs": [],
   "source": [
    "df_training = df_training.drop(['X1','X2'], axis=1)"
   ]
  },
  {
   "cell_type": "markdown",
   "metadata": {},
   "source": [
    "#### After having dropped some duplicates, we still have 'Title' duplicates but we don't know which news correspond to the titles so we'll take a look at it"
   ]
  },
  {
   "cell_type": "code",
   "execution_count": 97,
   "metadata": {},
   "outputs": [],
   "source": [
    "duplicate_titles = df_training[df_training.duplicated(['title'])]"
   ]
  },
  {
   "cell_type": "code",
   "execution_count": 98,
   "metadata": {},
   "outputs": [
    {
     "name": "stdout",
     "output_type": "stream",
     "text": [
      "         ID                                              title  \\\n",
      "3236   6667                          American Dream, Revisited   \n",
      "2080   7596  Clintons Are Under Multiple FBI Investigations...   \n",
      "1660   7080  Collusion Between Facebook and Hillary’s Campa...   \n",
      "3751   6578  Constitutional Law Expert: Comey Did NOT Viola...   \n",
      "2885   1351  Democratic debate: 's Reality Check team inspe...   \n",
      "3967   6967  Get Ready For Civil Unrest: Survey Finds That ...   \n",
      "1866   9680  Get Ready For Civil Unrest: Survey Finds That ...   \n",
      "1603   7007  Hillary’s “Big Tent” is Obama’s “Grand Bargain...   \n",
      "1494   9264  Meteor, space junk, rocket? Mysterious flash h...   \n",
      "2092   5335                        Michael Moore Owes Me $4.99   \n",
      "1464  10010                        Michael Moore Owes Me $4.99   \n",
      "1643   4337                      OnPolitics | 's politics blog   \n",
      "2072   1672                      OnPolitics | 's politics blog   \n",
      "3918   7446  Police arrest 141 in crackdown on North Dakota...   \n",
      "3866   7792  Project Veritas 4: Robert Creamer's Illegal $2...   \n",
      "2735   7067  The Fix Is In: NBC Affiliate Accidentally Post...   \n",
      "843    9998                               The Israeli Trumpess   \n",
      "3575   9916  The United States Is Pre-Positioning “Enemy As...   \n",
      "2814   5779  Trump and all the other far right leaders are ...   \n",
      "2239   8132  WHO Cancer Agency Under Fire for withholding ‘...   \n",
      "1832   6216                   What is going on with WikiLeaks?   \n",
      "3861   6592  Will Barack Obama Delay Or Suspend The Electio...   \n",
      "\n",
      "                                                   text label  count_title  \\\n",
      "3236  Share This: BY PEPE ESCOBAR \\nW ill Trump pull...  FAKE            3   \n",
      "2080  Clintons Are Under Multiple FBI Investigations...  FAKE           10   \n",
      "1660  Email \\nWho would have thought right? Hillary’...  FAKE           10   \n",
      "3751  Senate Minority Leader Harry Reid alleges that...  FAKE           12   \n",
      "2885  (CNN) The Democratic candidates for president ...  REAL            9   \n",
      "3967  \\nCould we see violence no matter who wins on ...  FAKE           15   \n",
      "1866  Get Ready For Civil Unrest: Survey Finds That ...  FAKE           15   \n",
      "1603  B y BAR executive editor Glen Ford B arack Oba...  FAKE            9   \n",
      "1494  Meteor, space junk, rocket? Mysterious flash h...  FAKE            8   \n",
      "2092  (128 fans) - Advertisement - \\nMichael Moore h...  FAKE            5   \n",
      "1464    28, 2016 | Reviews   Michael Moore in New Yo...  FAKE            5   \n",
      "1643  Who has Trump picked for his Cabinet so far?\\n...  REAL            5   \n",
      "2072  Who has Trump appointed to his cabinet so far?...  REAL            5   \n",
      "3918  Posted on October 28, 2016 by # 1 NWO Hatr Pub...  FAKE           10   \n",
      "3866    Project Veritas 4: Robert Creamer's Illegal ...  FAKE           13   \n",
      "2735  Posted 11/03/2016 12:44 am by PatriotRising wi...  FAKE           20   \n",
      "843   WHAT WILL Donald Trump do if he loses the elec...  FAKE            3   \n",
      "3575  \\nThere are a number of excellent pieces circu...  FAKE           13   \n",
      "2814  Naming Trump, Nigel Farage in Britain and Mari...  FAKE           11   \n",
      "2239  WHO Cancer Agency Under Fire for withholding ‘...  FAKE           10   \n",
      "1832  What is going on with WikiLeaks?   Defend Demo...  FAKE            6   \n",
      "3861  in: Government , Government Corruption , Obama...  FAKE           19   \n",
      "\n",
      "      count_text  diversity  stopwords  \n",
      "3236        1467   0.008867        538  \n",
      "2080         509   0.020097        201  \n",
      "1660         588   0.018984        221  \n",
      "3751         787   0.014815        318  \n",
      "2885        1790   0.006498        719  \n",
      "3967        1262   0.009917        496  \n",
      "1866        1253   0.010162        480  \n",
      "1603        1385   0.009085        527  \n",
      "1494         137   0.062271         48  \n",
      "2092        1099   0.010330        417  \n",
      "1464        1141   0.010971        421  \n",
      "1643          24   0.216418          9  \n",
      "2072          25   0.214815          8  \n",
      "3918          87   0.095146         26  \n",
      "3866         632   0.017110        225  \n",
      "2735        2227   0.005562        920  \n",
      "843          488   0.020294        191  \n",
      "3575        1401   0.008507        554  \n",
      "2814         833   0.013652        323  \n",
      "2239         692   0.014912        238  \n",
      "1832         717   0.016480        261  \n",
      "3861        1282   0.009296        535  \n"
     ]
    }
   ],
   "source": [
    "print(duplicate_titles.sort_values(by='title'))"
   ]
  },
  {
   "cell_type": "code",
   "execution_count": 99,
   "metadata": {},
   "outputs": [],
   "source": [
    "# droping ID \n",
    "\n",
    "df_training.drop('ID', axis = 1, inplace=True)"
   ]
  },
  {
   "cell_type": "code",
   "execution_count": 100,
   "metadata": {},
   "outputs": [
    {
     "data": {
      "text/plain": [
       "<bound method NDFrame.head of                                                   title  \\\n",
       "0                          You Can Smell Hillary’s Fear   \n",
       "1     Watch The Exact Moment Paul Ryan Committed Pol...   \n",
       "2           Kerry to go to Paris in gesture of sympathy   \n",
       "3     Bernie supporters on Twitter erupt in anger ag...   \n",
       "4      The Battle of New York: Why This Primary Matters   \n",
       "5                                           Tehran, USA   \n",
       "6     Girl Horrified At What She Watches Boyfriend D...   \n",
       "7                     ‘Britain’s Schindler’ Dies at 106   \n",
       "8     Fact check: Trump and Clinton at the 'commande...   \n",
       "9     Iran reportedly makes new push for uranium con...   \n",
       "10    With all three Clintons in Iowa, a glimpse at ...   \n",
       "11    Donald Trump’s Shockingly Weak Delegate Game S...   \n",
       "12    Strong Solar Storm, Tech Risks Today | S0 News...   \n",
       "13         10 Ways America Is Preparing for World War 3   \n",
       "14                     Trump takes on Cruz, but lightly   \n",
       "15                           How women lead differently   \n",
       "16    Shocking! Michele Obama & Hillary Caught Glamo...   \n",
       "17    Hillary Clinton in HUGE Trouble After America ...   \n",
       "18    What's in that Iran bill that Obama doesn't like?   \n",
       "19    The 1 chart that explains everything you need ...   \n",
       "20    The slippery slope to Trump’s proposed ban on ...   \n",
       "21    Episode #160 – SUNDAY WIRE: ‘Hail to the Deplo...   \n",
       "22    Hillary Clinton Makes A Bipartisan Appeal on S...   \n",
       "23    New Senate majority leader’s main goal for GOP...   \n",
       "24                ‘Inferno’ and the Overpopulation Myth   \n",
       "25    Anti-Trump forces seek last-ditch delegate revolt   \n",
       "26    Sanders Trounces Clinton in W. Va. -- But Will...   \n",
       "27    Donald Trump Is Changing His Campaign Slogan t...   \n",
       "28    Pure chaos: Donald Trump’s campaign management...   \n",
       "29    Syrian War Report – November 1, 2016: Syrian M...   \n",
       "...                                                 ...   \n",
       "3969           Is Global Warming “An Inconvenient Lie”?   \n",
       "3970  Trump's Election Marks the End of Liberal Capi...   \n",
       "3971  Russia suggests joint engineering troops’ dril...   \n",
       "3972  Military Veterans Are Helping To Save Coral Re...   \n",
       "3973        Trump: Israel is a ray of hope to the world   \n",
       "3974  Along the migrant trail, pressure grows to clo...   \n",
       "3975  News: Inspiring: When This Woman Was Feeling T...   \n",
       "3976  Smart Meter Case Testimony Before the Pennsylv...   \n",
       "3977  Reporters Stunned to Learn Trump Fans Lining U...   \n",
       "3978  IOWA FARMER CLAIMS BILL CLINTON HAD SEX WITH C...   \n",
       "3979  Republicans Reject Calls on Guantanamo Bay Clo...   \n",
       "3980  GOP elites are now resigned to Donald Trump as...   \n",
       "3981  Trump's Indiana win raises unsettling question...   \n",
       "3982  Cypriot leaders to continue talks in November: UN   \n",
       "3983  Freed Al Qaeda operative floated as part of pr...   \n",
       "3984        This Viral Video Has Hillary Running Scared   \n",
       "3985  Comment on After Sweeping Election, First Thin...   \n",
       "3986  Obama to keep 5,500 US troops in Afghanistan b...   \n",
       "3987  Family Remembers Queens Sucker Punch Victim ‘H...   \n",
       "3988  Black Americans Going For Donald Trump In Reco...   \n",
       "3989      Success against ISIS requires a team of teams   \n",
       "3990  The Edge: Cruz, Trump get media attention post...   \n",
       "3991  NY police investigate possible sighting of esc...   \n",
       "3992  “He and I Haven’t Spoken”: Trump and Pence Are...   \n",
       "3993  FBI Director may be sacked for intrusion into ...   \n",
       "3994                 Fault lines: GOP civil war deepens   \n",
       "3995  Clinton, under fire for oil and gas donations,...   \n",
       "3996  His rivals are saying the same thing in differ...   \n",
       "3997  The Genocide of Indigenous Peoples in North Am...   \n",
       "3998                                  Checkmating Obama   \n",
       "\n",
       "                                                   text label  count_title  \\\n",
       "0     Daniel Greenfield, a Shillman Journalism Fello...  FAKE            5   \n",
       "1     Google Pinterest Digg Linkedin Reddit Stumbleu...  FAKE           14   \n",
       "2     U.S. Secretary of State John F. Kerry said Mon...  REAL            9   \n",
       "3     — Kaydee King (@KaydeeKing) November 9, 2016 T...  FAKE           15   \n",
       "4     It's primary day in New York and front-runners...  REAL            9   \n",
       "5       \\nI’m not an immigrant, but my grandparents ...  FAKE            2   \n",
       "6     Share This Baylee Luciani (left), Screenshot o...  FAKE           13   \n",
       "7     A Czech stockbroker who saved more than 650 Je...  REAL            5   \n",
       "8     Hillary Clinton and Donald Trump made some ina...  REAL            9   \n",
       "9     Iranian negotiators reportedly have made a las...  REAL           11   \n",
       "10    CEDAR RAPIDS, Iowa — “I had one of the most wo...  REAL           17   \n",
       "11    Donald Trump’s organizational problems have go...  REAL           10   \n",
       "12    Click Here To Learn More About Alexandra's Per...  FAKE           11   \n",
       "13    October 31, 2016 at 4:52 am \\nPretty factual e...  FAKE            9   \n",
       "14    Killing Obama administration rules, dismantlin...  REAL            6   \n",
       "15    As more women move into high offices, they oft...  REAL            4   \n",
       "16    Shocking! Michele Obama & Hillary Caught Glamo...  FAKE           10   \n",
       "17    0 \\nHillary Clinton has barely just lost the p...  FAKE           18   \n",
       "18    Washington (CNN) For months, the White House a...  REAL            9   \n",
       "19    While paging through Pew's best data visualiza...  REAL           14   \n",
       "20    With little fanfare this fall, the New York de...  REAL            9   \n",
       "21    November 13, 2016 By 21wire Leave a Comment \\n...  FAKE           14   \n",
       "22    Hillary Clinton told a Staten Island crowd tod...  REAL            9   \n",
       "23    Mitch McConnell has an unusual admonition for ...  REAL           11   \n",
       "24    Mises.org November 1, 2016 Inferno is a great ...  FAKE            5   \n",
       "25    Washington (CNN) The faction of the GOP that i...  REAL            6   \n",
       "26    Meanwhile, Democrat Bernie Sanders picked up m...  REAL           13   \n",
       "27    After a week of nonstop criticism from Democra...  REAL           12   \n",
       "28    If you want a glimpse into a presidential cand...  REAL           17   \n",
       "29    Syrian War Report – October 31, 2016: Al-Nusra...  FAKE           16   \n",
       "...                                                 ...   ...          ...   \n",
       "3969  geoengineeringwatch.org \\nGlobal warming disin...  FAKE            6   \n",
       "3970  Here's something interesting from The Unz Revi...  FAKE            8   \n",
       "3971  Russia suggests joint engineering troops’ dril...  FAKE            8   \n",
       "3972  ‹ › Arnaldo Rodgers is a trained and educated ...  FAKE           12   \n",
       "3973  November 11, 2016 Trump: Israel is a ray of ho...  FAKE           10   \n",
       "3974  With Slovenia behind them and Austria just ahe...  REAL           11   \n",
       "3975  Email \\nWell, if this doesn’t inspire you to d...  FAKE           25   \n",
       "3976  By Catherine J. Frompovich \\nThis is the conti...  FAKE           23   \n",
       "3977  Hillary Camp Caught on Camera Telling Tiny Cro...  FAKE           13   \n",
       "3978  Email \\n\\nSioux Falls, IA | During his 1992 pr...  FAKE           12   \n",
       "3979  Senate Republicans are rejecting renewed calls...  REAL            7   \n",
       "3980  Throughout the Republican Party, from New Hamp...  REAL           11   \n",
       "3981  Donald Trump became the presumptive Republican...  REAL            8   \n",
       "3982  EU UN Secretary-General Ban Ki-moon (C) meets ...  FAKE            8   \n",
       "3983  An admitted Al Qaeda agent released this month...  REAL           12   \n",
       "3984  This Viral Video Has Hillary Running Scared Th...  FAKE            7   \n",
       "3985  Dispatches from Wolf Country –Sitting in my ca...  FAKE           17   \n",
       "3986  President Obama announced Thursday he will kee...  REAL           10   \n",
       "3987  Family Remembers Queens Sucker Punch Victim ‘H...  FAKE           13   \n",
       "3988  NTEB Ads Privacy Policy Black Americans Going ...  FAKE           13   \n",
       "3989  A truck bomb detonates in a lively street, con...  REAL            8   \n",
       "3990  **Want FOX News First in your inbox every day?...  REAL            8   \n",
       "3991  New York State Police are looking into a possi...  REAL            8   \n",
       "3992  In the middle of a heated exchange about the S...  REAL           15   \n",
       "3993  FBI Director may be sacked for intrusion into ...  FAKE            9   \n",
       "3994  Washington (CNN) Donald Trump is poised to bre...  REAL            6   \n",
       "3995  Clinton lost her temper at an event on Thursda...  REAL           14   \n",
       "3996  Chris Christie depicts Marco Rubio as a truant...  REAL           14   \n",
       "3997  Prof. Tony Hall Speaks Out on Mohawk Territory...  FAKE           14   \n",
       "3998  Originally published by the Jerusalem Post . \\...  FAKE            2   \n",
       "\n",
       "      count_text  diversity  stopwords  \n",
       "0           1298   0.007848        531  \n",
       "1            446   0.024943        174  \n",
       "2            423   0.020842        172  \n",
       "3            404   0.028571        127  \n",
       "4            307   0.032065        120  \n",
       "5           2348   0.005400        961  \n",
       "6            553   0.018291        252  \n",
       "7            123   0.072797         45  \n",
       "8           2288   0.005554        911  \n",
       "9            692   0.013966        267  \n",
       "10           525   0.019899        204  \n",
       "11           395   0.021468        154  \n",
       "12           212   0.040138         67  \n",
       "13            53   0.142361         22  \n",
       "14            17   0.222222          5  \n",
       "15          3082   0.004097       1149  \n",
       "16           142   0.063596         44  \n",
       "17           283   0.036160        114  \n",
       "18          1122   0.009310        433  \n",
       "19           277   0.032999        117  \n",
       "20           744   0.014755        300  \n",
       "21           204   0.059880         50  \n",
       "22           686   0.014563        266  \n",
       "23          1443   0.008173        588  \n",
       "24           816   0.013951        311  \n",
       "25          1206   0.008828        483  \n",
       "26           316   0.027862        122  \n",
       "27           291   0.032022        106  \n",
       "28           577   0.016468        239  \n",
       "29           695   0.016853        234  \n",
       "...          ...        ...        ...  \n",
       "3969        1037   0.009824        400  \n",
       "3970        1127   0.009942        523  \n",
       "3971         184   0.041237         47  \n",
       "3972         309   0.033586        105  \n",
       "3973         224   0.039028         87  \n",
       "3974        1383   0.008639        542  \n",
       "3975         400   0.022163        176  \n",
       "3976        2138   0.005924        704  \n",
       "3977         175   0.052783         60  \n",
       "3978         316   0.032258        121  \n",
       "3979          27   0.162437          7  \n",
       "3980        1198   0.009614        461  \n",
       "3981        1120   0.010440        408  \n",
       "3982         337   0.030203        119  \n",
       "3983         643   0.016117        252  \n",
       "3984         336   0.015983         85  \n",
       "3985         429   0.026158        152  \n",
       "3986        1087   0.009894        413  \n",
       "3987         194   0.053588         68  \n",
       "3988        1584   0.007612        505  \n",
       "3989         695   0.014745        262  \n",
       "3990        2036   0.007114        719  \n",
       "3991         364   0.024221        129  \n",
       "3992         376   0.020687        143  \n",
       "3993         172   0.046425         74  \n",
       "3994         990   0.010601        419  \n",
       "3995         398   0.024270        141  \n",
       "3996        1265   0.009271        471  \n",
       "3997         425   0.023654        139  \n",
       "3998        1737   0.006281        709  \n",
       "\n",
       "[3806 rows x 7 columns]>"
      ]
     },
     "execution_count": 100,
     "metadata": {},
     "output_type": "execute_result"
    }
   ],
   "source": [
    "df_training.head"
   ]
  },
  {
   "cell_type": "markdown",
   "metadata": {},
   "source": [
    "## Further Cleaning"
   ]
  },
  {
   "cell_type": "markdown",
   "metadata": {},
   "source": [
    "It is important to clean the data thoroughly in order to predict better the aricles news type. \n",
    "Therefore, it is necessary to tokenize the words, remove punctuiations, capital letters, numbers, stopwords, double spaces symbols, emojis, hyperlinks, anchors and to adjust different spellings of the same word. \n",
    "\n",
    "However, when we attempted to clean the data of all of the above mentioned, we faced issues with the algorithms so with many trial and errors, we decided on cleaning the data of the below mentioned feautures. "
   ]
  },
  {
   "cell_type": "code",
   "execution_count": 101,
   "metadata": {},
   "outputs": [],
   "source": [
    "# functions   \n",
    "def lexical_diversity(text):\n",
    "    return len(set(text)) / len(text)\n",
    "\n",
    "def clean(text):\n",
    "\n",
    "    no_special_entities = re.sub(r'\\&\\w*;', '', text)\n",
    "    no_tickers = re.sub(r'\\$\\w*', '', no_special_entities) # Substitute. $ needs to be escaped because it means something in regex. \\w means alphanumeric char or underscore.\n",
    "    #no_hyperlinks = re.sub(r'https?:\\/\\/.*\\/\\w*', '', no_tickers)\n",
    "    no_hashtags = re.sub(r'#\\w*', '', no_tickers)\n",
    "    no_punctuation = re.sub(r'[' + punctuation.replace('@', '') + ']+', ' ', text)\n",
    "    #no_small_words = re.sub(r'\\b\\w{1,2}\\b', '', no_punctuation) # \\b represents a word boundary\n",
    "    #no_whitespace = re.sub(r'\\s\\s+', ' ', no_small_words)\n",
    "    #no_whitespace = no_whitespace.lstrip(' ') # Remove single space left on the left\n",
    "    no_emojis = ''.join(c for c in no_punctuation if c <= '\\uFFFF') # Apart from emojis (plane 1), this also removes historic scripts and mathematical alphanumerics (also plane 1), ideographs (plane 2) and more.\n",
    "    #tknzr = TweetTokenizer(preserve_case=False, reduce_len=True, strip_handles=True) # reduce_len changes, for example, waaaaaayyyy to waaayyy.\n",
    "    #text_list = tknzr.tokenize(no_emojis)\n",
    "    #list_no_stopwords = [i for i in text_list if i not in stop]\n",
    "    #filtered =' '.join(list_no_stopwords) # ''.join() would join without spaces between words.\n",
    "    #tag_map = defaultdict(lambda : wn.NOUN)\n",
    "    #tag_map['J'] = wn.ADJ\n",
    "    #tag_map['V'] = wn.VERB\n",
    "    #tag_map['R'] = wn.ADV\n",
    "    #word_Lemmatized = WordNetLemmatizer()           \n",
    "    #Final_words = []\n",
    "    #for token, tag in pos_tag(no_emojis):\n",
    "     #   word_Final = word_Lemmatized.lemmatize(token, tag_map[tag[0]])\n",
    "     #   Final_words.append(word_Final)\n",
    "    \n",
    "\n",
    "    return(no_emojis)\n",
    "\n",
    "\n",
    "#  Lists and strings creation\n",
    "stop = stopwords.words('english')\n",
    "punctuation += '´΄’…“”–—―»«'"
   ]
  },
  {
   "cell_type": "code",
   "execution_count": 102,
   "metadata": {},
   "outputs": [
    {
     "data": {
      "text/html": [
       "<div>\n",
       "<style scoped>\n",
       "    .dataframe tbody tr th:only-of-type {\n",
       "        vertical-align: middle;\n",
       "    }\n",
       "\n",
       "    .dataframe tbody tr th {\n",
       "        vertical-align: top;\n",
       "    }\n",
       "\n",
       "    .dataframe thead th {\n",
       "        text-align: right;\n",
       "    }\n",
       "</style>\n",
       "<table border=\"1\" class=\"dataframe\">\n",
       "  <thead>\n",
       "    <tr style=\"text-align: right;\">\n",
       "      <th></th>\n",
       "      <th>title</th>\n",
       "      <th>text</th>\n",
       "      <th>label</th>\n",
       "      <th>count_title</th>\n",
       "      <th>count_text</th>\n",
       "      <th>diversity</th>\n",
       "      <th>stopwords</th>\n",
       "    </tr>\n",
       "  </thead>\n",
       "  <tbody>\n",
       "    <tr>\n",
       "      <th>0</th>\n",
       "      <td>You Can Smell Hillary’s Fear</td>\n",
       "      <td>Daniel Greenfield, a Shillman Journalism Fello...</td>\n",
       "      <td>FAKE</td>\n",
       "      <td>5</td>\n",
       "      <td>1298</td>\n",
       "      <td>0.007848</td>\n",
       "      <td>531</td>\n",
       "    </tr>\n",
       "    <tr>\n",
       "      <th>1</th>\n",
       "      <td>Watch The Exact Moment Paul Ryan Committed Pol...</td>\n",
       "      <td>Google Pinterest Digg Linkedin Reddit Stumbleu...</td>\n",
       "      <td>FAKE</td>\n",
       "      <td>14</td>\n",
       "      <td>446</td>\n",
       "      <td>0.024943</td>\n",
       "      <td>174</td>\n",
       "    </tr>\n",
       "    <tr>\n",
       "      <th>2</th>\n",
       "      <td>Kerry to go to Paris in gesture of sympathy</td>\n",
       "      <td>U.S. Secretary of State John F. Kerry said Mon...</td>\n",
       "      <td>REAL</td>\n",
       "      <td>9</td>\n",
       "      <td>423</td>\n",
       "      <td>0.020842</td>\n",
       "      <td>172</td>\n",
       "    </tr>\n",
       "    <tr>\n",
       "      <th>3</th>\n",
       "      <td>Bernie supporters on Twitter erupt in anger ag...</td>\n",
       "      <td>— Kaydee King (@KaydeeKing) November 9, 2016 T...</td>\n",
       "      <td>FAKE</td>\n",
       "      <td>15</td>\n",
       "      <td>404</td>\n",
       "      <td>0.028571</td>\n",
       "      <td>127</td>\n",
       "    </tr>\n",
       "    <tr>\n",
       "      <th>4</th>\n",
       "      <td>The Battle of New York: Why This Primary Matters</td>\n",
       "      <td>It's primary day in New York and front-runners...</td>\n",
       "      <td>REAL</td>\n",
       "      <td>9</td>\n",
       "      <td>307</td>\n",
       "      <td>0.032065</td>\n",
       "      <td>120</td>\n",
       "    </tr>\n",
       "  </tbody>\n",
       "</table>\n",
       "</div>"
      ],
      "text/plain": [
       "                                               title  \\\n",
       "0                       You Can Smell Hillary’s Fear   \n",
       "1  Watch The Exact Moment Paul Ryan Committed Pol...   \n",
       "2        Kerry to go to Paris in gesture of sympathy   \n",
       "3  Bernie supporters on Twitter erupt in anger ag...   \n",
       "4   The Battle of New York: Why This Primary Matters   \n",
       "\n",
       "                                                text label  count_title  \\\n",
       "0  Daniel Greenfield, a Shillman Journalism Fello...  FAKE            5   \n",
       "1  Google Pinterest Digg Linkedin Reddit Stumbleu...  FAKE           14   \n",
       "2  U.S. Secretary of State John F. Kerry said Mon...  REAL            9   \n",
       "3  — Kaydee King (@KaydeeKing) November 9, 2016 T...  FAKE           15   \n",
       "4  It's primary day in New York and front-runners...  REAL            9   \n",
       "\n",
       "   count_text  diversity  stopwords  \n",
       "0        1298   0.007848        531  \n",
       "1         446   0.024943        174  \n",
       "2         423   0.020842        172  \n",
       "3         404   0.028571        127  \n",
       "4         307   0.032065        120  "
      ]
     },
     "execution_count": 102,
     "metadata": {},
     "output_type": "execute_result"
    }
   ],
   "source": [
    "df_training.head()"
   ]
  },
  {
   "cell_type": "code",
   "execution_count": 103,
   "metadata": {},
   "outputs": [
    {
     "data": {
      "text/html": [
       "<div>\n",
       "<style scoped>\n",
       "    .dataframe tbody tr th:only-of-type {\n",
       "        vertical-align: middle;\n",
       "    }\n",
       "\n",
       "    .dataframe tbody tr th {\n",
       "        vertical-align: top;\n",
       "    }\n",
       "\n",
       "    .dataframe thead th {\n",
       "        text-align: right;\n",
       "    }\n",
       "</style>\n",
       "<table border=\"1\" class=\"dataframe\">\n",
       "  <thead>\n",
       "    <tr style=\"text-align: right;\">\n",
       "      <th></th>\n",
       "      <th>title</th>\n",
       "      <th>text</th>\n",
       "      <th>label</th>\n",
       "      <th>count_title</th>\n",
       "      <th>count_text</th>\n",
       "      <th>diversity</th>\n",
       "      <th>stopwords</th>\n",
       "    </tr>\n",
       "  </thead>\n",
       "  <tbody>\n",
       "    <tr>\n",
       "      <th>count</th>\n",
       "      <td>3806</td>\n",
       "      <td>3806</td>\n",
       "      <td>3806</td>\n",
       "      <td>3806.000000</td>\n",
       "      <td>3806.000000</td>\n",
       "      <td>3806.000000</td>\n",
       "      <td>3806.000000</td>\n",
       "    </tr>\n",
       "    <tr>\n",
       "      <th>unique</th>\n",
       "      <td>3784</td>\n",
       "      <td>3806</td>\n",
       "      <td>2</td>\n",
       "      <td>NaN</td>\n",
       "      <td>NaN</td>\n",
       "      <td>NaN</td>\n",
       "      <td>NaN</td>\n",
       "    </tr>\n",
       "    <tr>\n",
       "      <th>top</th>\n",
       "      <td>Get Ready For Civil Unrest: Survey Finds That ...</td>\n",
       "      <td>Wednesday 2 November 2016 Facebook user wastes...</td>\n",
       "      <td>FAKE</td>\n",
       "      <td>NaN</td>\n",
       "      <td>NaN</td>\n",
       "      <td>NaN</td>\n",
       "      <td>NaN</td>\n",
       "    </tr>\n",
       "    <tr>\n",
       "      <th>freq</th>\n",
       "      <td>3</td>\n",
       "      <td>1</td>\n",
       "      <td>1926</td>\n",
       "      <td>NaN</td>\n",
       "      <td>NaN</td>\n",
       "      <td>NaN</td>\n",
       "      <td>NaN</td>\n",
       "    </tr>\n",
       "    <tr>\n",
       "      <th>mean</th>\n",
       "      <td>NaN</td>\n",
       "      <td>NaN</td>\n",
       "      <td>NaN</td>\n",
       "      <td>10.616658</td>\n",
       "      <td>793.665003</td>\n",
       "      <td>0.031983</td>\n",
       "      <td>306.947451</td>\n",
       "    </tr>\n",
       "    <tr>\n",
       "      <th>std</th>\n",
       "      <td>NaN</td>\n",
       "      <td>NaN</td>\n",
       "      <td>NaN</td>\n",
       "      <td>4.034663</td>\n",
       "      <td>812.427697</td>\n",
       "      <td>0.051887</td>\n",
       "      <td>325.341290</td>\n",
       "    </tr>\n",
       "    <tr>\n",
       "      <th>min</th>\n",
       "      <td>NaN</td>\n",
       "      <td>NaN</td>\n",
       "      <td>NaN</td>\n",
       "      <td>1.000000</td>\n",
       "      <td>2.000000</td>\n",
       "      <td>0.001236</td>\n",
       "      <td>0.000000</td>\n",
       "    </tr>\n",
       "    <tr>\n",
       "      <th>25%</th>\n",
       "      <td>NaN</td>\n",
       "      <td>NaN</td>\n",
       "      <td>NaN</td>\n",
       "      <td>8.000000</td>\n",
       "      <td>324.000000</td>\n",
       "      <td>0.010875</td>\n",
       "      <td>118.250000</td>\n",
       "    </tr>\n",
       "    <tr>\n",
       "      <th>50%</th>\n",
       "      <td>NaN</td>\n",
       "      <td>NaN</td>\n",
       "      <td>NaN</td>\n",
       "      <td>10.000000</td>\n",
       "      <td>622.000000</td>\n",
       "      <td>0.016892</td>\n",
       "      <td>235.000000</td>\n",
       "    </tr>\n",
       "    <tr>\n",
       "      <th>75%</th>\n",
       "      <td>NaN</td>\n",
       "      <td>NaN</td>\n",
       "      <td>NaN</td>\n",
       "      <td>13.000000</td>\n",
       "      <td>1026.000000</td>\n",
       "      <td>0.030295</td>\n",
       "      <td>399.750000</td>\n",
       "    </tr>\n",
       "    <tr>\n",
       "      <th>max</th>\n",
       "      <td>NaN</td>\n",
       "      <td>NaN</td>\n",
       "      <td>NaN</td>\n",
       "      <td>53.000000</td>\n",
       "      <td>11353.000000</td>\n",
       "      <td>1.000000</td>\n",
       "      <td>5045.000000</td>\n",
       "    </tr>\n",
       "  </tbody>\n",
       "</table>\n",
       "</div>"
      ],
      "text/plain": [
       "                                                    title  \\\n",
       "count                                                3806   \n",
       "unique                                               3784   \n",
       "top     Get Ready For Civil Unrest: Survey Finds That ...   \n",
       "freq                                                    3   \n",
       "mean                                                  NaN   \n",
       "std                                                   NaN   \n",
       "min                                                   NaN   \n",
       "25%                                                   NaN   \n",
       "50%                                                   NaN   \n",
       "75%                                                   NaN   \n",
       "max                                                   NaN   \n",
       "\n",
       "                                                     text label  count_title  \\\n",
       "count                                                3806  3806  3806.000000   \n",
       "unique                                               3806     2          NaN   \n",
       "top     Wednesday 2 November 2016 Facebook user wastes...  FAKE          NaN   \n",
       "freq                                                    1  1926          NaN   \n",
       "mean                                                  NaN   NaN    10.616658   \n",
       "std                                                   NaN   NaN     4.034663   \n",
       "min                                                   NaN   NaN     1.000000   \n",
       "25%                                                   NaN   NaN     8.000000   \n",
       "50%                                                   NaN   NaN    10.000000   \n",
       "75%                                                   NaN   NaN    13.000000   \n",
       "max                                                   NaN   NaN    53.000000   \n",
       "\n",
       "          count_text    diversity    stopwords  \n",
       "count    3806.000000  3806.000000  3806.000000  \n",
       "unique           NaN          NaN          NaN  \n",
       "top              NaN          NaN          NaN  \n",
       "freq             NaN          NaN          NaN  \n",
       "mean      793.665003     0.031983   306.947451  \n",
       "std       812.427697     0.051887   325.341290  \n",
       "min         2.000000     0.001236     0.000000  \n",
       "25%       324.000000     0.010875   118.250000  \n",
       "50%       622.000000     0.016892   235.000000  \n",
       "75%      1026.000000     0.030295   399.750000  \n",
       "max     11353.000000     1.000000  5045.000000  "
      ]
     },
     "execution_count": 103,
     "metadata": {},
     "output_type": "execute_result"
    }
   ],
   "source": [
    "df_training.describe(include='all')"
   ]
  },
  {
   "cell_type": "markdown",
   "metadata": {},
   "source": [
    "### Tagging and Tokenizing"
   ]
  },
  {
   "cell_type": "code",
   "execution_count": 104,
   "metadata": {},
   "outputs": [
    {
     "name": "stdout",
     "output_type": "stream",
     "text": [
      "just began titles!\n"
     ]
    },
    {
     "data": {
      "text/html": [
       "<div>\n",
       "<style scoped>\n",
       "    .dataframe tbody tr th:only-of-type {\n",
       "        vertical-align: middle;\n",
       "    }\n",
       "\n",
       "    .dataframe tbody tr th {\n",
       "        vertical-align: top;\n",
       "    }\n",
       "\n",
       "    .dataframe thead th {\n",
       "        text-align: right;\n",
       "    }\n",
       "</style>\n",
       "<table border=\"1\" class=\"dataframe\">\n",
       "  <thead>\n",
       "    <tr style=\"text-align: right;\">\n",
       "      <th></th>\n",
       "      <th>title</th>\n",
       "      <th>text</th>\n",
       "      <th>label</th>\n",
       "      <th>count_title</th>\n",
       "      <th>count_text</th>\n",
       "      <th>diversity</th>\n",
       "      <th>stopwords</th>\n",
       "    </tr>\n",
       "  </thead>\n",
       "  <tbody>\n",
       "    <tr>\n",
       "      <th>0</th>\n",
       "      <td>You Can Smell Hillary s Fear</td>\n",
       "      <td>Daniel Greenfield  a Shillman Journalism Fello...</td>\n",
       "      <td>FAKE</td>\n",
       "      <td>5</td>\n",
       "      <td>1298</td>\n",
       "      <td>0.007848</td>\n",
       "      <td>531</td>\n",
       "    </tr>\n",
       "    <tr>\n",
       "      <th>1</th>\n",
       "      <td>Watch The Exact Moment Paul Ryan Committed Pol...</td>\n",
       "      <td>Google Pinterest Digg Linkedin Reddit Stumbleu...</td>\n",
       "      <td>FAKE</td>\n",
       "      <td>14</td>\n",
       "      <td>446</td>\n",
       "      <td>0.024943</td>\n",
       "      <td>174</td>\n",
       "    </tr>\n",
       "    <tr>\n",
       "      <th>2</th>\n",
       "      <td>Kerry to go to Paris in gesture of sympathy</td>\n",
       "      <td>U S  Secretary of State John F  Kerry said Mon...</td>\n",
       "      <td>REAL</td>\n",
       "      <td>9</td>\n",
       "      <td>423</td>\n",
       "      <td>0.020842</td>\n",
       "      <td>172</td>\n",
       "    </tr>\n",
       "    <tr>\n",
       "      <th>3</th>\n",
       "      <td>Bernie supporters on Twitter erupt in anger ag...</td>\n",
       "      <td>Kaydee King  @KaydeeKing  November 9  2016 T...</td>\n",
       "      <td>FAKE</td>\n",
       "      <td>15</td>\n",
       "      <td>404</td>\n",
       "      <td>0.028571</td>\n",
       "      <td>127</td>\n",
       "    </tr>\n",
       "    <tr>\n",
       "      <th>4</th>\n",
       "      <td>The Battle of New York  Why This Primary Matters</td>\n",
       "      <td>It s primary day in New York and front runners...</td>\n",
       "      <td>REAL</td>\n",
       "      <td>9</td>\n",
       "      <td>307</td>\n",
       "      <td>0.032065</td>\n",
       "      <td>120</td>\n",
       "    </tr>\n",
       "  </tbody>\n",
       "</table>\n",
       "</div>"
      ],
      "text/plain": [
       "                                               title  \\\n",
       "0                       You Can Smell Hillary s Fear   \n",
       "1  Watch The Exact Moment Paul Ryan Committed Pol...   \n",
       "2        Kerry to go to Paris in gesture of sympathy   \n",
       "3  Bernie supporters on Twitter erupt in anger ag...   \n",
       "4   The Battle of New York  Why This Primary Matters   \n",
       "\n",
       "                                                text label  count_title  \\\n",
       "0  Daniel Greenfield  a Shillman Journalism Fello...  FAKE            5   \n",
       "1  Google Pinterest Digg Linkedin Reddit Stumbleu...  FAKE           14   \n",
       "2  U S  Secretary of State John F  Kerry said Mon...  REAL            9   \n",
       "3    Kaydee King  @KaydeeKing  November 9  2016 T...  FAKE           15   \n",
       "4  It s primary day in New York and front runners...  REAL            9   \n",
       "\n",
       "   count_text  diversity  stopwords  \n",
       "0        1298   0.007848        531  \n",
       "1         446   0.024943        174  \n",
       "2         423   0.020842        172  \n",
       "3         404   0.028571        127  \n",
       "4         307   0.032065        120  "
      ]
     },
     "execution_count": 104,
     "metadata": {},
     "output_type": "execute_result"
    }
   ],
   "source": [
    "#Training\n",
    "df_training['text'] = df_training.text.apply(lambda x: clean(x))\n",
    "print(\"just began titles!\")\n",
    "df_training['title'] = df_training.title.apply(lambda x: clean(x))\n",
    "\n",
    "#Test\n",
    "df_test['text'] = df_test.text.apply(lambda x: clean(x))\n",
    "\n",
    "df_training.head()\n"
   ]
  },
  {
   "cell_type": "markdown",
   "metadata": {},
   "source": [
    "# Vectorize \n"
   ]
  },
  {
   "cell_type": "code",
   "execution_count": 105,
   "metadata": {},
   "outputs": [],
   "source": [
    "x_training,x_test,y_training,y_test = train_test_split(df_training['text'],df_training['label'], test_size=0.3, random_state=7)\n",
    "\n",
    "from sklearn.feature_extraction.text import CountVectorizer\n",
    "count_vect = CountVectorizer( stop_words='english')\n",
    "x_training_counts = count_vect.fit_transform(x_training)\n",
    "x_test_counts = count_vect.transform(x_test)\n",
    "\n",
    "df_test_counts = count_vect.transform(df_test['text'])\n",
    "\n"
   ]
  },
  {
   "cell_type": "markdown",
   "metadata": {},
   "source": [
    "## TF - IDF"
   ]
  },
  {
   "cell_type": "markdown",
   "metadata": {},
   "source": [
    "TF-IDF is based on weighting the words - there are few very frequent terms and many very rare terms\n",
    "This weight is a statistical measure, it's used to evaluate the importantance of a word in a document/corpus.\n",
    "Rare words are more informative than frequent terms, therefore we place more wight on them so we take info account the term frequency.\n"
   ]
  },
  {
   "cell_type": "code",
   "execution_count": 106,
   "metadata": {},
   "outputs": [],
   "source": [
    "from sklearn.feature_extraction.text import TfidfTransformer\n",
    "tfidf_transformer = TfidfTransformer()\n",
    "x_train_tfidf = tfidf_transformer.fit_transform(x_training_counts)\n",
    "x_test_tfidf = tfidf_transformer.transform(x_test_counts)\n",
    "\n",
    "df_train_tfidf = tfidf_transformer.transform(df_test_counts)"
   ]
  },
  {
   "cell_type": "markdown",
   "metadata": {},
   "source": [
    "# NAIVE BAYES"
   ]
  },
  {
   "cell_type": "markdown",
   "metadata": {},
   "source": [
    "### Naive Bayes applied to count vectorization"
   ]
  },
  {
   "cell_type": "markdown",
   "metadata": {},
   "source": [
    " Naive Bayes classifier is an algorithm based on the Bayes' theorem to classify objects. This classifier assumes strong (or naive) independence between attributes of data points. "
   ]
  },
  {
   "cell_type": "markdown",
   "metadata": {},
   "source": [
    "Even with all our data standardized, we see below that the accuracy rate is just not enough to satisfy us. "
   ]
  },
  {
   "cell_type": "code",
   "execution_count": 107,
   "metadata": {},
   "outputs": [
    {
     "name": "stdout",
     "output_type": "stream",
     "text": [
      "[0.87514061 0.87274775 0.8680947 ]\n",
      "Accuracy for bayes with count.vect in the test set: 88.44%\n"
     ]
    }
   ],
   "source": [
    "from sklearn.naive_bayes import MultinomialNB\n",
    "from sklearn import metrics\n",
    "\n",
    "clf_count = MultinomialNB().fit(x_training_counts, y_training)\n",
    "\n",
    "print(cross_val_score( MultinomialNB(),x_training_counts, y_training, cv=3))\n",
    "\n",
    "predicted__test_count = clf_count.predict(x_test_counts)\n",
    "score_count_test = accuracy_score(y_test, predicted__test_count)\n",
    "print(f'Accuracy for bayes with count.vect in the test set: {round(score_count_test * 100,2)}%')\n"
   ]
  },
  {
   "cell_type": "markdown",
   "metadata": {},
   "source": [
    "### Naive Bayes applied to TF-IDF"
   ]
  },
  {
   "cell_type": "code",
   "execution_count": 108,
   "metadata": {},
   "outputs": [
    {
     "name": "stdout",
     "output_type": "stream",
     "text": [
      "[0.79077615 0.78490991 0.789177  ]\n",
      "Accuracy for bayes with tf_idf in the test set: 81.17%\n"
     ]
    }
   ],
   "source": [
    "clf_tfidf = MultinomialNB().fit(x_train_tfidf, y_training)\n",
    "\n",
    "print(cross_val_score( MultinomialNB(),x_train_tfidf, y_training, cv=3))\n",
    "\n",
    "predicted_test_tfidf = clf_tfidf.predict(x_test_tfidf)\n",
    "score_tfidf_count = accuracy_score(y_test, predicted_test_tfidf)\n",
    "print(f'Accuracy for bayes with tf_idf in the test set: {round(score_tfidf_count * 100,2)}%')"
   ]
  },
  {
   "cell_type": "markdown",
   "metadata": {},
   "source": [
    "# SVM "
   ]
  },
  {
   "cell_type": "markdown",
   "metadata": {},
   "source": [
    "A discriminative classifier defined by a separating hyperplane. \n",
    "Works well with unstructured and semi structured data such as text. Therefore we would expect for this classifier to work fairly well in this case. However, as we see below, the classifier didn´t pan out with good results using count vectorizer nor TF-IDF."
   ]
  },
  {
   "cell_type": "markdown",
   "metadata": {},
   "source": [
    "### SVM applied to count vectorization"
   ]
  },
  {
   "cell_type": "code",
   "execution_count": 34,
   "metadata": {},
   "outputs": [
    {
     "name": "stdout",
     "output_type": "stream",
     "text": [
      "[0.7480315  0.73986486 0.72942503]\n",
      "Accuracy for svm with counts in the test set: 75.39%\n"
     ]
    }
   ],
   "source": [
    "clf_svm_counts = SVC(gamma = 'auto').fit(x_training_counts, y_training)\n",
    "\n",
    "print(cross_val_score(SVC(gamma = 'auto'),x_training_counts, y_training, cv=3))\n",
    "\n",
    "predicted_test_counts_svm = clf_svm_counts.predict(x_test_counts)\n",
    "score_svm_test_c = accuracy_score(y_test, predicted_test_counts_svm)\n",
    "print(f'Accuracy for svm with counts in the test set: {round(score_svm_test_c * 100,2)}%')"
   ]
  },
  {
   "cell_type": "markdown",
   "metadata": {},
   "source": [
    "### SVM applied to TF-IDF"
   ]
  },
  {
   "cell_type": "code",
   "execution_count": 35,
   "metadata": {},
   "outputs": [
    {
     "name": "stdout",
     "output_type": "stream",
     "text": [
      "[0.50506187 0.50563063 0.50507328]\n",
      "Accuracy for svm with tf_idf in the test set: 50.79%\n"
     ]
    }
   ],
   "source": [
    "clf_svm_tfidf = SVC(gamma = 'auto').fit(x_train_tfidf, y_training)\n",
    "\n",
    "print(cross_val_score(SVC(gamma = 'auto'),x_train_tfidf, y_training, cv=3))\n",
    "\n",
    "predicted_test_tfidf_svm = clf_svm_tfidf.predict(x_test_tfidf)\n",
    "score_svm_test = accuracy_score(y_test, predicted_test_tfidf_svm)\n",
    "print(f'Accuracy for svm with tf_idf in the test set: {round(score_svm_test * 100,2)}%')"
   ]
  },
  {
   "cell_type": "markdown",
   "metadata": {},
   "source": [
    "## LOGISTIC REGRESSION"
   ]
  },
  {
   "cell_type": "markdown",
   "metadata": {},
   "source": [
    "Logistic regression is used to describe data and to explain the relationship between one dependent binary variable and one or more nominal independent variables. When applied to count vecotrizer, we have a decent accuracy rate and semi-decent rate when applied to TF-IDF\n",
    "\n",
    "So far the logistic regression applied to the count vectorizer is providing the best score till now. "
   ]
  },
  {
   "cell_type": "markdown",
   "metadata": {},
   "source": [
    "### Logistic Regression applied to count vectorization"
   ]
  },
  {
   "cell_type": "code",
   "execution_count": 36,
   "metadata": {},
   "outputs": [
    {
     "name": "stdout",
     "output_type": "stream",
     "text": [
      "[0.88863892 0.89414414 0.87598647]\n",
      "Accuracy for logistic regression with counts in the test set: 90.11%\n"
     ]
    }
   ],
   "source": [
    "clf_lr_counts = LogisticRegression(random_state=0, solver = 'newton-cg').fit(x_training_counts, y_training)\n",
    "\n",
    "print(cross_val_score(LogisticRegression(random_state=0, solver = 'newton-cg'),x_training_counts, y_training, cv=3))\n",
    "\n",
    "predicted_test_count_lr = clf_lr_counts.predict(x_test_counts)\n",
    "score_lr_test_c = accuracy_score(y_test, predicted_test_count_lr)\n",
    "print(f'Accuracy for logistic regression with counts in the test set: {round(score_lr_test_c * 100,2)}%')"
   ]
  },
  {
   "cell_type": "markdown",
   "metadata": {},
   "source": [
    "### Logistic Regression applied to TF-IDF"
   ]
  },
  {
   "cell_type": "code",
   "execution_count": 37,
   "metadata": {},
   "outputs": [
    {
     "name": "stdout",
     "output_type": "stream",
     "text": [
      "[0.8863892  0.88513514 0.88951522]\n",
      "Accuracy for logistic regression with tf_idf in the test set: 89.32%\n"
     ]
    }
   ],
   "source": [
    "clf_lr_tfidf = LogisticRegression(random_state=0, solver = 'newton-cg').fit(x_train_tfidf, y_training)\n",
    "\n",
    "print(cross_val_score(LogisticRegression(random_state=0, solver = 'newton-cg'),x_train_tfidf, y_training, cv=3))\n",
    "\n",
    "predicted_test_tfidf_lr = clf_lr_tfidf.predict(x_test_tfidf)\n",
    "score_lr_test = accuracy_score(y_test, predicted_test_tfidf_lr)\n",
    "print(f'Accuracy for logistic regression with tf_idf in the test set: {round(score_lr_test * 100,2)}%')"
   ]
  },
  {
   "cell_type": "markdown",
   "metadata": {},
   "source": [
    "# SVM and gridsearch"
   ]
  },
  {
   "cell_type": "markdown",
   "metadata": {},
   "source": [
    "We set the Params that are the parameters which the grid search uses to go over. Then when GridSearchCV is called, an estimator is given (the Svm.SVC is the support vector machine) \n",
    "We then set the parameters with: Param_grid = params. The default value of folds is 3 and we set it to 5\n",
    "Then with this, we fit it to our training data and resulted with a good score of 91.21% accuracy on the test set. This score is now proving to be the best, and more reliable as of now. "
   ]
  },
  {
   "cell_type": "code",
   "execution_count": 38,
   "metadata": {},
   "outputs": [],
   "source": [
    "from sklearn import svm, datasets\n",
    "from sklearn.model_selection import GridSearchCV"
   ]
  },
  {
   "cell_type": "code",
   "execution_count": 39,
   "metadata": {},
   "outputs": [],
   "source": [
    "params = [\n",
    "    {'C':[1,10,100,1000], 'kernel':['linear']},\n",
    "    {'C':[1,10,15,20], 'gamma':[0.1,0.15, 0.2, 0.25], 'kernel':['rbf']}\n",
    "]"
   ]
  },
  {
   "cell_type": "code",
   "execution_count": 40,
   "metadata": {},
   "outputs": [],
   "source": [
    "clf = GridSearchCV(estimator=svm.SVC(), param_grid = params,cv=5, n_jobs = -1)"
   ]
  },
  {
   "cell_type": "code",
   "execution_count": 41,
   "metadata": {},
   "outputs": [
    {
     "data": {
      "text/plain": [
       "GridSearchCV(cv=5, error_score='raise-deprecating',\n",
       "             estimator=SVC(C=1.0, cache_size=200, class_weight=None, coef0=0.0,\n",
       "                           decision_function_shape='ovr', degree=3,\n",
       "                           gamma='auto_deprecated', kernel='rbf', max_iter=-1,\n",
       "                           probability=False, random_state=None, shrinking=True,\n",
       "                           tol=0.001, verbose=False),\n",
       "             iid='warn', n_jobs=-1,\n",
       "             param_grid=[{'C': [1, 10, 100, 1000], 'kernel': ['linear']},\n",
       "                         {'C': [1, 10, 15, 20], 'gamma': [0.1, 0.15, 0.2, 0.25],\n",
       "                          'kernel': ['rbf']}],\n",
       "             pre_dispatch='2*n_jobs', refit=True, return_train_score=False,\n",
       "             scoring=None, verbose=0)"
      ]
     },
     "execution_count": 41,
     "metadata": {},
     "output_type": "execute_result"
    }
   ],
   "source": [
    "clf.fit(x_train_tfidf, y_training)"
   ]
  },
  {
   "cell_type": "code",
   "execution_count": 42,
   "metadata": {},
   "outputs": [
    {
     "data": {
      "text/plain": [
       "91.21621621621621"
      ]
     },
     "execution_count": 42,
     "metadata": {},
     "output_type": "execute_result"
    }
   ],
   "source": [
    "clf.best_score_* 100"
   ]
  },
  {
   "cell_type": "markdown",
   "metadata": {},
   "source": [
    "## Passive Aggressive Classifier on TF-IDF vectorizer"
   ]
  },
  {
   "cell_type": "markdown",
   "metadata": {},
   "source": [
    "The PAC algorithm is helpful for classifying large inputs of data. It is fairly easy to implement and quick to process. This did end up giving us the best results with a 92.33% accuracy rate. This score is the best of all, therefore our algorithm choice.  "
   ]
  },
  {
   "cell_type": "code",
   "execution_count": 43,
   "metadata": {},
   "outputs": [
    {
     "name": "stdout",
     "output_type": "stream",
     "text": [
      "[0.91901012 0.91216216 0.90078918]\n",
      "Accuracy for PAC with counts in the test set: 92.29%\n"
     ]
    }
   ],
   "source": [
    "# Initialize a PassiveAggressiveClassifier\n",
    "pac = PassiveAggressiveClassifier(max_iter = 50).fit(x_train_tfidf,y_training)\n",
    "\n",
    "print(cross_val_score(PassiveAggressiveClassifier(max_iter = 50),x_train_tfidf, y_training, cv=3))\n",
    "\n",
    "predicted_test_count_pac = pac.predict(x_test_tfidf)\n",
    "score_pac_test_c = accuracy_score(y_test, predicted_test_count_pac)\n",
    "print(f'Accuracy for PAC with counts in the test set: {round(score_pac_test_c * 100,2)}%')\n"
   ]
  },
  {
   "cell_type": "markdown",
   "metadata": {},
   "source": [
    "## PREDICT the test set given \n",
    "We'll use the passive agressive classifier which gave the best validation score and without being too different from the training set, giving a good accuracy result but not too overfit. Eventhough we are aware that PAC does not provide global guarantees as the SVM classifier does, however, in this case, we beleive due to the speed and ease of this algorithm and the accuracy score, it is suitable for our prediction. "
   ]
  },
  {
   "cell_type": "code",
   "execution_count": 109,
   "metadata": {},
   "outputs": [],
   "source": [
    "final_predict = pd.DataFrame(pac.predict(df_train_tfidf))"
   ]
  },
  {
   "cell_type": "code",
   "execution_count": 110,
   "metadata": {},
   "outputs": [],
   "source": [
    "final_predict.index = df_test['ID']\n",
    "final_predict.columns = ['result']\n"
   ]
  },
  {
   "cell_type": "code",
   "execution_count": 111,
   "metadata": {},
   "outputs": [],
   "source": [
    "final_predict.to_csv('predict_mada_and_juliana.csv')"
   ]
  },
  {
   "cell_type": "code",
   "execution_count": null,
   "metadata": {},
   "outputs": [],
   "source": []
  }
 ],
 "metadata": {
  "kernelspec": {
   "display_name": "Python 3",
   "language": "python",
   "name": "python3"
  },
  "language_info": {
   "codemirror_mode": {
    "name": "ipython",
    "version": 3
   },
   "file_extension": ".py",
   "mimetype": "text/x-python",
   "name": "python",
   "nbconvert_exporter": "python",
   "pygments_lexer": "ipython3",
   "version": "3.7.3"
  }
 },
 "nbformat": 4,
 "nbformat_minor": 4
}
